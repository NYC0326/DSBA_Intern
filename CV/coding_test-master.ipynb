{
 "cells": [
  {
   "cell_type": "markdown",
   "metadata": {
    "id": "CgDndWebuz39"
   },
   "source": [
    "# DSBA Coding Test - CV\n",
    "\n",
    "- **이름**:"
   ]
  },
  {
   "cell_type": "markdown",
   "metadata": {
    "id": "WgMCZSJAvZHY"
   },
   "source": [
    "이미지 데이터 학습을 위한 코드와 결과물 정리 코드 작성입니다.\n",
    "\n",
    "실험 및 상세 조건들은 아래와 같습니다.\n",
    "\n",
    "- 모든 코드는 colab을 사용하여 notebook 파일 내 작성\n",
    "\n",
    "1. 주제 : 이미지 데이터 학습을 위한 코드 및 결과물 정리\n",
    "    - 실험을 위한 모델 코드와 학습 및 평가 코드 작성\n",
    "    - 실험 결과 작성\n",
    "2. 학습 모델\n",
    "    - ResNet50\n",
    "    - ViT-S/16\n",
    "3. 실험 항목\n",
    "    1. ResNet50 w/o pre-trained weights\n",
    "    2. ViT-S/16 w/o pre-trained weights\n",
    "    3. ResNet50 w/ pre-trained on ImageNet 1k\n",
    "    4. ViT-S/16 w/ pre-trained on ImageNet 1k\n",
    "4. 실험 결과\n",
    "    - 결과로 보일 수 있는 Table, Figure 모두 작성"
   ]
  },
  {
   "cell_type": "markdown",
   "metadata": {
    "id": "eowGWT5xmp3X"
   },
   "source": [
    "# Data Download"
   ]
  },
  {
   "cell_type": "code",
   "execution_count": null,
   "metadata": {
    "colab": {
     "base_uri": "https://localhost:8080/"
    },
    "executionInfo": {
     "elapsed": 20678,
     "status": "ok",
     "timestamp": 1733566487487,
     "user": {
      "displayName": "­허재혁 / 학생 / 산업공학과",
      "userId": "09336806811000536587"
     },
     "user_tz": -540
    },
    "id": "wxUeo1KBmsan",
    "outputId": "ea34e3f0-4fdd-467d-fb7d-16c6660a8d44"
   },
   "outputs": [
    {
     "data": {
      "text/plain": [
       "['/content/data/test_data.npy',\n",
       " '/content/data/test_target.npy',\n",
       " '/content/data/train_data.npy',\n",
       " '/content/data/train_target.npy']"
      ]
     },
     "execution_count": 2,
     "metadata": {},
     "output_type": "execute_result"
    }
   ],
   "source": [
    "import gdown\n",
    "\n",
    "url = \"https://drive.google.com/drive/folders/1wEnwMeJoQZwJhI7oBRah3I8QX-FpLMYD\"\n",
    "gdown.download_folder(url, quiet=True, use_cookies=False)"
   ]
  },
  {
   "cell_type": "markdown",
   "metadata": {
    "id": "SWh3EQDwms_n"
   },
   "source": [
    "# Import Modules\n",
    "\n",
    "실험에 사용된 module은 모두 아래 cell에서 불러와주세요."
   ]
  },
  {
   "cell_type": "code",
   "execution_count": null,
   "metadata": {
    "id": "K0TY3_kVv7Ug"
   },
   "outputs": [],
   "source": [
    "!pip install omegaconf"
   ]
  },
  {
   "cell_type": "code",
   "execution_count": null,
   "metadata": {
    "id": "ufzFlZLYmRkR"
   },
   "outputs": [],
   "source": []
  },
  {
   "cell_type": "markdown",
   "metadata": {
    "id": "jRQBR-eowBnW"
   },
   "source": [
    "# Configuration\n",
    "\n",
    "코드에 사용된 설정 값은 모두 `cfg`에 정의해주세요."
   ]
  },
  {
   "cell_type": "code",
   "execution_count": null,
   "metadata": {
    "id": "259Ru81RwYhj"
   },
   "outputs": [],
   "source": [
    "cfg = None"
   ]
  },
  {
   "cell_type": "markdown",
   "metadata": {
    "id": "P_Ez0ikGmRkU"
   },
   "source": [
    "# Datasets\n",
    "\n",
    "실험에 사용할 데이터를 구성해주세요.  "
   ]
  },
  {
   "cell_type": "code",
   "execution_count": null,
   "metadata": {
    "id": "-RRG67M6wWT5"
   },
   "outputs": [],
   "source": []
  },
  {
   "cell_type": "markdown",
   "metadata": {
    "id": "BjtRpYptmRkY"
   },
   "source": [
    "# Models\n",
    "\n",
    "`ResNet50`과 `ViT-S/16` 두 모델을 작성해주세요.\n",
    "- `ResNet50`은 torch를 사용하여 작성해주세요.\n",
    "- `ViT-S/16`은 open source를 사용하여 불러와도 괜찮습니다."
   ]
  },
  {
   "cell_type": "code",
   "execution_count": null,
   "metadata": {
    "id": "PX_oqcokmRkY"
   },
   "outputs": [],
   "source": []
  },
  {
   "cell_type": "markdown",
   "metadata": {
    "id": "klg-vD8FmRkY"
   },
   "source": [
    "# Evaluation Metrics\n",
    "\n",
    "평가에 사용할 코드를 작성하세요."
   ]
  },
  {
   "cell_type": "code",
   "execution_count": null,
   "metadata": {
    "id": "4HBgCgzAmRkY"
   },
   "outputs": [],
   "source": []
  },
  {
   "cell_type": "markdown",
   "metadata": {
    "id": "TvkyEbWEmRkY"
   },
   "source": [
    "# Training & Evaluation\n",
    "\n",
    "학습 및 평가 코드를 작성하세요."
   ]
  },
  {
   "cell_type": "code",
   "execution_count": null,
   "metadata": {
    "id": "6xlOx_RamRkY"
   },
   "outputs": [],
   "source": []
  },
  {
   "cell_type": "markdown",
   "metadata": {
    "id": "D8Z6SD64w8L9"
   },
   "source": [
    "# Experiments\n",
    "\n",
    "실험 코드를 작성하세요."
   ]
  },
  {
   "cell_type": "code",
   "execution_count": null,
   "metadata": {
    "id": "E5Dw7UcnmRkZ"
   },
   "outputs": [],
   "source": []
  },
  {
   "cell_type": "markdown",
   "metadata": {
    "id": "zq3mrgeWmRkZ"
   },
   "source": [
    "# Table\n",
    "\n",
    "결과를 나타낼 수 있는 Table을 작성하세요."
   ]
  },
  {
   "cell_type": "code",
   "execution_count": null,
   "metadata": {
    "id": "fk8fs4vKmRkZ"
   },
   "outputs": [],
   "source": []
  },
  {
   "cell_type": "markdown",
   "metadata": {
    "id": "jQN2K51GmRkZ"
   },
   "source": [
    "# Figures\n",
    "\n",
    "결과를 표현할 수 있는 Figure를 작성하세요."
   ]
  },
  {
   "cell_type": "code",
   "execution_count": null,
   "metadata": {
    "id": "dLx2LAKumRkZ"
   },
   "outputs": [],
   "source": []
  }
 ],
 "metadata": {
  "accelerator": "GPU",
  "colab": {
   "gpuType": "T4",
   "provenance": []
  },
  "kernelspec": {
   "display_name": "Python 3",
   "name": "python3"
  },
  "language_info": {
   "codemirror_mode": {
    "name": "ipython",
    "version": 3
   },
   "file_extension": ".py",
   "mimetype": "text/x-python",
   "name": "python",
   "nbconvert_exporter": "python",
   "pygments_lexer": "ipython3",
   "version": "3.8.10"
  }
 },
 "nbformat": 4,
 "nbformat_minor": 0
}
